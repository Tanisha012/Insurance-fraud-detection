{
 "cells": [
  {
   "cell_type": "code",
   "execution_count": 1,
   "id": "c779efb9",
   "metadata": {},
   "outputs": [
    {
     "name": "stdout",
     "output_type": "stream",
     "text": [
      "Collecting streamlit\n",
      "  Downloading streamlit-1.41.1-py2.py3-none-any.whl (9.1 MB)\n",
      "     ---------------------------------------- 9.1/9.1 MB 3.2 MB/s eta 0:00:00\n",
      "Collecting blinker<2,>=1.0.0\n",
      "  Downloading blinker-1.9.0-py3-none-any.whl (8.5 kB)\n",
      "Requirement already satisfied: numpy<3,>=1.23 in c:\\users\\jjk\\anaconda3\\lib\\site-packages (from streamlit) (1.23.5)\n",
      "Requirement already satisfied: tornado<7,>=6.0.3 in c:\\users\\jjk\\anaconda3\\lib\\site-packages (from streamlit) (6.1)\n",
      "Requirement already satisfied: pandas<3,>=1.4.0 in c:\\users\\jjk\\anaconda3\\lib\\site-packages (from streamlit) (2.2.3)\n",
      "Collecting gitpython!=3.1.19,<4,>=3.0.7\n",
      "  Downloading GitPython-3.1.44-py3-none-any.whl (207 kB)\n",
      "     -------------------------------------- 207.6/207.6 kB 4.2 MB/s eta 0:00:00\n",
      "Requirement already satisfied: packaging<25,>=20 in c:\\users\\jjk\\anaconda3\\lib\\site-packages (from streamlit) (22.0)\n",
      "Requirement already satisfied: rich<14,>=10.14.0 in c:\\users\\jjk\\anaconda3\\lib\\site-packages (from streamlit) (13.7.1)\n",
      "Requirement already satisfied: protobuf<6,>=3.20 in c:\\users\\jjk\\anaconda3\\lib\\site-packages (from streamlit) (4.25.4)\n",
      "Requirement already satisfied: watchdog<7,>=2.1.5 in c:\\users\\jjk\\anaconda3\\lib\\site-packages (from streamlit) (2.1.6)\n",
      "Requirement already satisfied: toml<2,>=0.10.1 in c:\\users\\jjk\\anaconda3\\lib\\site-packages (from streamlit) (0.10.2)\n",
      "Collecting pyarrow>=7.0\n",
      "  Downloading pyarrow-18.1.0-cp310-cp310-win_amd64.whl (25.1 MB)\n",
      "     ---------------------------------------- 25.1/25.1 MB 5.8 MB/s eta 0:00:00\n",
      "Collecting altair<6,>=4.0\n",
      "  Downloading altair-5.5.0-py3-none-any.whl (731 kB)\n",
      "     -------------------------------------- 731.2/731.2 kB 5.8 MB/s eta 0:00:00\n",
      "Requirement already satisfied: requests<3,>=2.27 in c:\\users\\jjk\\anaconda3\\lib\\site-packages (from streamlit) (2.28.1)\n",
      "Collecting cachetools<6,>=4.0\n",
      "  Downloading cachetools-5.5.0-py3-none-any.whl (9.5 kB)\n",
      "Collecting pydeck<1,>=0.8.0b4\n",
      "  Downloading pydeck-0.9.1-py2.py3-none-any.whl (6.9 MB)\n",
      "     ---------------------------------------- 6.9/6.9 MB 6.3 MB/s eta 0:00:00\n",
      "Requirement already satisfied: pillow<12,>=7.1.0 in c:\\users\\jjk\\anaconda3\\lib\\site-packages (from streamlit) (9.4.0)\n",
      "Requirement already satisfied: typing-extensions<5,>=4.3.0 in c:\\users\\jjk\\anaconda3\\lib\\site-packages (from streamlit) (4.12.2)\n",
      "Requirement already satisfied: click<9,>=7.0 in c:\\users\\jjk\\anaconda3\\lib\\site-packages (from streamlit) (8.0.4)\n",
      "Collecting tenacity<10,>=8.1.0\n",
      "  Downloading tenacity-9.0.0-py3-none-any.whl (28 kB)\n",
      "Requirement already satisfied: jsonschema>=3.0 in c:\\users\\jjk\\anaconda3\\lib\\site-packages (from altair<6,>=4.0->streamlit) (4.17.3)\n",
      "Requirement already satisfied: jinja2 in c:\\users\\jjk\\anaconda3\\lib\\site-packages (from altair<6,>=4.0->streamlit) (3.1.2)\n",
      "Collecting narwhals>=1.14.2\n",
      "  Downloading narwhals-1.20.1-py3-none-any.whl (262 kB)\n",
      "     -------------------------------------- 262.4/262.4 kB 4.1 MB/s eta 0:00:00\n",
      "Requirement already satisfied: colorama in c:\\users\\jjk\\anaconda3\\lib\\site-packages (from click<9,>=7.0->streamlit) (0.4.6)\n",
      "Collecting gitdb<5,>=4.0.1\n",
      "  Downloading gitdb-4.0.12-py3-none-any.whl (62 kB)\n",
      "     ---------------------------------------- 62.8/62.8 kB 3.3 MB/s eta 0:00:00\n",
      "Requirement already satisfied: pytz>=2020.1 in c:\\users\\jjk\\anaconda3\\lib\\site-packages (from pandas<3,>=1.4.0->streamlit) (2022.7)\n",
      "Requirement already satisfied: python-dateutil>=2.8.2 in c:\\users\\jjk\\anaconda3\\lib\\site-packages (from pandas<3,>=1.4.0->streamlit) (2.8.2)\n",
      "Requirement already satisfied: tzdata>=2022.7 in c:\\users\\jjk\\anaconda3\\lib\\site-packages (from pandas<3,>=1.4.0->streamlit) (2024.2)\n",
      "Requirement already satisfied: idna<4,>=2.5 in c:\\users\\jjk\\anaconda3\\lib\\site-packages (from requests<3,>=2.27->streamlit) (3.4)\n",
      "Requirement already satisfied: charset-normalizer<3,>=2 in c:\\users\\jjk\\anaconda3\\lib\\site-packages (from requests<3,>=2.27->streamlit) (2.0.4)\n",
      "Requirement already satisfied: urllib3<1.27,>=1.21.1 in c:\\users\\jjk\\anaconda3\\lib\\site-packages (from requests<3,>=2.27->streamlit) (1.26.14)\n",
      "Requirement already satisfied: certifi>=2017.4.17 in c:\\users\\jjk\\anaconda3\\lib\\site-packages (from requests<3,>=2.27->streamlit) (2024.8.30)\n",
      "Requirement already satisfied: markdown-it-py>=2.2.0 in c:\\users\\jjk\\anaconda3\\lib\\site-packages (from rich<14,>=10.14.0->streamlit) (3.0.0)\n",
      "Requirement already satisfied: pygments<3.0.0,>=2.13.0 in c:\\users\\jjk\\anaconda3\\lib\\site-packages (from rich<14,>=10.14.0->streamlit) (2.18.0)\n",
      "Collecting smmap<6,>=3.0.1\n",
      "  Downloading smmap-5.0.2-py3-none-any.whl (24 kB)\n",
      "Requirement already satisfied: MarkupSafe>=2.0 in c:\\users\\jjk\\anaconda3\\lib\\site-packages (from jinja2->altair<6,>=4.0->streamlit) (2.1.1)\n",
      "Requirement already satisfied: attrs>=17.4.0 in c:\\users\\jjk\\anaconda3\\lib\\site-packages (from jsonschema>=3.0->altair<6,>=4.0->streamlit) (22.1.0)\n",
      "Requirement already satisfied: pyrsistent!=0.17.0,!=0.17.1,!=0.17.2,>=0.14.0 in c:\\users\\jjk\\anaconda3\\lib\\site-packages (from jsonschema>=3.0->altair<6,>=4.0->streamlit) (0.18.0)\n",
      "Requirement already satisfied: mdurl~=0.1 in c:\\users\\jjk\\anaconda3\\lib\\site-packages (from markdown-it-py>=2.2.0->rich<14,>=10.14.0->streamlit) (0.1.2)\n",
      "Requirement already satisfied: six>=1.5 in c:\\users\\jjk\\anaconda3\\lib\\site-packages (from python-dateutil>=2.8.2->pandas<3,>=1.4.0->streamlit) (1.16.0)\n",
      "Installing collected packages: tenacity, smmap, pyarrow, narwhals, cachetools, blinker, pydeck, gitdb, altair, gitpython, streamlit\n",
      "  Attempting uninstall: tenacity\n",
      "    Found existing installation: tenacity 8.0.1\n",
      "    Uninstalling tenacity-8.0.1:\n",
      "      Successfully uninstalled tenacity-8.0.1\n",
      "Successfully installed altair-5.5.0 blinker-1.9.0 cachetools-5.5.0 gitdb-4.0.12 gitpython-3.1.44 narwhals-1.20.1 pyarrow-18.1.0 pydeck-0.9.1 smmap-5.0.2 streamlit-1.41.1 tenacity-9.0.0\n",
      "Note: you may need to restart the kernel to use updated packages.\n"
     ]
    }
   ],
   "source": [
    "pip install streamlit"
   ]
  },
  {
   "cell_type": "code",
   "execution_count": 2,
   "id": "22bf413e",
   "metadata": {},
   "outputs": [
    {
     "name": "stderr",
     "output_type": "stream",
     "text": [
      "C:\\Users\\jjk\\anaconda3\\lib\\site-packages\\pandas\\core\\arrays\\masked.py:60: UserWarning: Pandas requires version '1.3.6' or newer of 'bottleneck' (version '1.3.5' currently installed).\n",
      "  from pandas.core import (\n"
     ]
    }
   ],
   "source": [
    "import streamlit as st\n",
    "import pandas as pd\n",
    "import numpy as np\n",
    "import seaborn as sns\n",
    "import matplotlib.pyplot as plt\n",
    "from sklearn.ensemble import RandomForestClassifier\n",
    "from sklearn.model_selection import train_test_split\n",
    "from sklearn.preprocessing import LabelEncoder, StandardScaler\n",
    "from sklearn.metrics import classification_report, confusion_matrix"
   ]
  },
  {
   "cell_type": "code",
   "execution_count": 3,
   "id": "6dc1d010",
   "metadata": {},
   "outputs": [
    {
     "name": "stderr",
     "output_type": "stream",
     "text": [
      "2025-01-02 15:16:44.742 WARNING streamlit.runtime.scriptrunner_utils.script_run_context: Thread 'MainThread': missing ScriptRunContext! This warning can be ignored when running in bare mode.\n",
      "2025-01-02 15:16:45.908 \n",
      "  \u001b[33m\u001b[1mWarning:\u001b[0m to view this Streamlit app on a browser, run it with the following\n",
      "  command:\n",
      "\n",
      "    streamlit run C:\\Users\\jjk\\anaconda3\\lib\\site-packages\\ipykernel_launcher.py [ARGUMENTS]\n",
      "2025-01-02 15:16:45.910 Thread 'MainThread': missing ScriptRunContext! This warning can be ignored when running in bare mode.\n"
     ]
    },
    {
     "data": {
      "text/plain": [
       "DeltaGenerator()"
      ]
     },
     "execution_count": 3,
     "metadata": {},
     "output_type": "execute_result"
    }
   ],
   "source": [
    "# Title\n",
    "st.title(\"Insurance Fraud Detection - Automated Machine Learning\")"
   ]
  },
  {
   "cell_type": "code",
   "execution_count": 4,
   "id": "3062c653",
   "metadata": {},
   "outputs": [
    {
     "name": "stderr",
     "output_type": "stream",
     "text": [
      "2025-01-02 15:17:05.772 Thread 'MainThread': missing ScriptRunContext! This warning can be ignored when running in bare mode.\n",
      "2025-01-02 15:17:05.773 Thread 'MainThread': missing ScriptRunContext! This warning can be ignored when running in bare mode.\n",
      "2025-01-02 15:17:05.774 Thread 'MainThread': missing ScriptRunContext! This warning can be ignored when running in bare mode.\n",
      "2025-01-02 15:17:05.775 Thread 'MainThread': missing ScriptRunContext! This warning can be ignored when running in bare mode.\n",
      "2025-01-02 15:17:05.781 Thread 'MainThread': missing ScriptRunContext! This warning can be ignored when running in bare mode.\n",
      "2025-01-02 15:17:05.782 Thread 'MainThread': missing ScriptRunContext! This warning can be ignored when running in bare mode.\n",
      "2025-01-02 15:17:05.784 Session state does not function when running a script without `streamlit run`\n",
      "2025-01-02 15:17:05.785 Thread 'MainThread': missing ScriptRunContext! This warning can be ignored when running in bare mode.\n",
      "2025-01-02 15:17:05.786 Thread 'MainThread': missing ScriptRunContext! This warning can be ignored when running in bare mode.\n"
     ]
    }
   ],
   "source": [
    "# Sidebar Navigation\n",
    "st.sidebar.title(\"Navigation\")\n",
    "options = st.sidebar.radio(\"Choose an option:\", [\"Upload Data\", \"EDA\", \"Preprocessing\", \"Feature Engineering\", \"Modeling\"])"
   ]
  },
  {
   "cell_type": "code",
   "execution_count": 5,
   "id": "83e6bc2f",
   "metadata": {},
   "outputs": [
    {
     "name": "stderr",
     "output_type": "stream",
     "text": [
      "2025-01-02 15:18:23.538 Thread 'MainThread': missing ScriptRunContext! This warning can be ignored when running in bare mode.\n",
      "2025-01-02 15:18:23.539 Thread 'MainThread': missing ScriptRunContext! This warning can be ignored when running in bare mode.\n",
      "2025-01-02 15:18:23.540 Thread 'MainThread': missing ScriptRunContext! This warning can be ignored when running in bare mode.\n"
     ]
    }
   ],
   "source": [
    "# Global Dataset\n",
    "if \"dataset\" not in st.session_state:\n",
    "    st.session_state[\"dataset\"] = None"
   ]
  },
  {
   "cell_type": "code",
   "execution_count": 6,
   "id": "dbc1cce5",
   "metadata": {},
   "outputs": [
    {
     "name": "stderr",
     "output_type": "stream",
     "text": [
      "2025-01-02 15:19:12.286 Thread 'MainThread': missing ScriptRunContext! This warning can be ignored when running in bare mode.\n",
      "2025-01-02 15:19:12.288 Thread 'MainThread': missing ScriptRunContext! This warning can be ignored when running in bare mode.\n",
      "2025-01-02 15:19:12.293 Thread 'MainThread': missing ScriptRunContext! This warning can be ignored when running in bare mode.\n",
      "2025-01-02 15:19:12.294 Thread 'MainThread': missing ScriptRunContext! This warning can be ignored when running in bare mode.\n",
      "2025-01-02 15:19:12.295 Thread 'MainThread': missing ScriptRunContext! This warning can be ignored when running in bare mode.\n"
     ]
    }
   ],
   "source": [
    "# Upload Data\n",
    "if options == \"Upload Data\":\n",
    "    uploaded_file = st.file_uploader(\"insurance_claimsv2\", type=\"csv\")\n",
    "    if uploaded_file:\n",
    "        st.session_state[\"dataset\"] = pd.read_csv(uploaded_file)\n",
    "        st.write(\"Uploaded Dataset:\")\n",
    "        st.dataframe(st.session_state[\"dataset\"].head())"
   ]
  },
  {
   "cell_type": "code",
   "execution_count": 15,
   "id": "449b13a7",
   "metadata": {},
   "outputs": [],
   "source": [
    "# EDA\n",
    "if options == \"EDA\" and st.session_state[\"dataset\"] is not None:\n",
    "    dataset = st.session_state[\"dataset\"]\n",
    "    st.write(\"Exploratory Data Analysis\")\n",
    "    \n",
    "    # Summary Statistics\n",
    "    st.write(\"Basic Information\")\n",
    "    st.write(dataset.describe())\n",
    "    \n",
    "     # Correlation Heatmap\n",
    "    if st.button(\"Correlation Heatmap\"):\n",
    "        fig, ax = plt.subplots(figsize=(10, 6))\n",
    "        sns.heatmap(dataset.corr(), annot=True, fmt=\".2f\", cmap=\"coolwarm\", ax=ax)\n",
    "        st.pyplot(fig)\n",
    "        \n",
    "    # Target Distribution\n",
    "    target_col = st.selectbox(\"Select Target Variable for Distribution:\", dataset.columns)\n",
    "    if target_col:\n",
    "        fig, ax = plt.subplots()\n",
    "        sns.countplot(data=dataset, x=target_col, ax=ax)\n",
    "        st.pyplot(fig)"
   ]
  },
  {
   "cell_type": "code",
   "execution_count": 16,
   "id": "9dc5a68e",
   "metadata": {},
   "outputs": [],
   "source": [
    "# Preprocessing\n",
    "if options == \"Preprocessing\" and st.session_state[\"dataset\"] is not None:\n",
    "    dataset = st.session_state[\"dataset\"]\n",
    "\n",
    "    # Handle Missing Values\n",
    "    st.write(\"Handle Missing Values\")\n",
    "    method = st.radio(\"Select Imputation Method:\", [\"Drop Rows\", \"Fill with Mean\", \"Fill with Median\"])\n",
    "    if method == \"Drop Rows\":\n",
    "        dataset.dropna(inplace=True)\n",
    "    elif method == \"Fill with Mean\":\n",
    "        dataset.fillna(dataset.mean(), inplace=True)\n",
    "    elif method == \"Fill with Median\":\n",
    "        dataset.fillna(dataset.median(), inplace=True)\n",
    "\n",
    "    # Scale Numerical Variables\n",
    "    if st.checkbox(\"Scale Numerical Variables\"):\n",
    "        num_cols = st.multiselect(\"Select Numerical Columns to Scale:\", dataset.select_dtypes(include=[\"float64\", \"int64\"]).columns)\n",
    "        scaler = StandardScaler()\n",
    "        dataset[num_cols] = scaler.fit_transform(dataset[num_cols])\n",
    "\n",
    "    st.session_state[\"dataset\"] = dataset\n",
    "    st.write(\"Preprocessed Data\")\n",
    "    st.dataframe(dataset.head())"
   ]
  },
  {
   "cell_type": "code",
   "execution_count": 17,
   "id": "aac70233",
   "metadata": {},
   "outputs": [],
   "source": [
    "# Feature Engineering\n",
    "if options == \"Feature Engineering\" and st.session_state[\"dataset\"] is not None:\n",
    "    dataset = st.session_state[\"dataset\"]\n",
    "\n",
    "    # Create Trend Variables\n",
    "    st.write(\"Create Trend Variables\")\n",
    "    dataset[\"claim_avg\"] = dataset[[\"injury_claim\", \"property_claim\", \"vehicle_claim\"]].mean(axis=1)\n",
    "    dataset[\"claim_max\"] = dataset[[\"injury_claim\", \"property_claim\", \"vehicle_claim\"]].max(axis=1)\n",
    "    dataset[\"claim_min\"] = dataset[[\"injury_claim\", \"property_claim\", \"vehicle_claim\"]].min(axis=1)\n",
    "\n",
    "    # WOE Encoding\n",
    "    st.write(\"WOE Encoding for Categorical Variables\")\n",
    "    target_col = st.selectbox(\"Select Target Variable for WOE Encoding:\", dataset.columns)\n",
    "    cat_cols = st.multiselect(\"Select Categorical Columns for WOE Encoding:\", dataset.select_dtypes(include=[\"object\"]).columns)\n",
    "\n",
    "    def calculate_woe(data, feature, target):\n",
    "        grouped = data.groupby(feature)[target].agg(['sum', 'count'])\n",
    "        grouped['non_event'] = grouped['count'] - grouped['sum']\n",
    "        grouped['event_rate'] = grouped['sum'] / grouped['count']\n",
    "        grouped['non_event_rate'] = grouped['non_event'] / grouped['count']\n",
    "        grouped['WOE'] = np.log(grouped['event_rate'] / grouped['non_event_rate'])\n",
    "        return grouped['WOE']\n",
    "\n",
    "    for col in cat_cols:\n",
    "        dataset[f\"{col}_woe\"] = dataset[col].map(calculate_woe(dataset, col, target_col))\n",
    "\n",
    "    st.session_state[\"dataset\"] = dataset\n",
    "    st.write(\"Feature Engineered Data\")\n",
    "    st.dataframe(dataset.head())"
   ]
  },
  {
   "cell_type": "code",
   "execution_count": 18,
   "id": "92325851",
   "metadata": {},
   "outputs": [],
   "source": [
    "# Modeling\n",
    "if options == \"Modeling\" and st.session_state[\"dataset\"] is not None:\n",
    "    dataset = st.session_state[\"dataset\"]\n",
    "\n",
    "    # Train-Test Split\n",
    "    target_col = st.selectbox(\"Select Target Variable for Modeling:\", dataset.columns)\n",
    "    X = dataset.drop(columns=[target_col])\n",
    "    y = dataset[target_col]\n",
    "    test_size = st.slider(\"Select Test Size (in %):\", 10, 50, 20) / 100\n",
    "    X_train, X_test, y_train, y_test = train_test_split(X, y, test_size=test_size, random_state=42)\n",
    "\n",
    "    # Model Selection\n",
    "    model_type = st.selectbox(\"Select Model Type:\", [\"Random Forest\"])\n",
    "    if model_type == \"Random Forest\":\n",
    "        model = RandomForestClassifier(random_state=42)\n",
    "        model.fit(X_train, y_train)\n",
    "\n",
    "    # Model Evaluation\n",
    "    if st.button(\"Train and Evaluate Model\"):\n",
    "        y_pred = model.predict(X_test)\n",
    "        st.write(\"Classification Report\")\n",
    "        st.text(classification_report(y_test, y_pred))\n",
    "\n",
    "        st.write(\"Confusion Matrix\")\n",
    "        fig, ax = plt.subplots()\n",
    "        sns.heatmap(confusion_matrix(y_test, y_pred), annot=True, fmt=\"d\", cmap=\"Blues\", ax=ax)\n",
    "        st.pyplot(fig)"
   ]
  },
  {
   "cell_type": "code",
   "execution_count": null,
   "id": "52f2052b",
   "metadata": {},
   "outputs": [],
   "source": []
  }
 ],
 "metadata": {
  "kernelspec": {
   "display_name": "Python 3 (ipykernel)",
   "language": "python",
   "name": "python3"
  },
  "language_info": {
   "codemirror_mode": {
    "name": "ipython",
    "version": 3
   },
   "file_extension": ".py",
   "mimetype": "text/x-python",
   "name": "python",
   "nbconvert_exporter": "python",
   "pygments_lexer": "ipython3",
   "version": "3.10.9"
  }
 },
 "nbformat": 4,
 "nbformat_minor": 5
}
